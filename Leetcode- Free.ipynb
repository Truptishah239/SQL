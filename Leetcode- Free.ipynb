{
 "cells": [
  {
   "cell_type": "code",
   "execution_count": null,
   "metadata": {},
   "outputs": [],
   "source": [
    "# Write your MySQL query statement below\n",
    "SELECT\n",
    "    id,\n",
    "    MAX(IF(month = 'Jan', revenue, null)) AS Jan_Revenue,\n",
    "    MAX(IF(month = 'Feb', revenue, null)) AS Feb_Revenue,\n",
    "    MAX(IF(month = 'Mar', revenue, null)) AS Mar_Revenue,\n",
    "    MAX(IF(month = 'Apr', revenue, null)) AS Apr_Revenue,\n",
    "    MAX(IF(month = 'May', revenue, null)) AS May_Revenue,\n",
    "    MAX(IF(month = 'Jun', revenue, null)) AS Jun_Revenue,\n",
    "    MAX(IF(month = 'Jul', revenue, null)) AS Jul_Revenue,\n",
    "    MAX(IF(month = 'Aug', revenue, null)) AS Aug_Revenue,\n",
    "    MAX(IF(month = 'Sep', revenue, null)) AS Sep_Revenue,\n",
    "    MAX(IF(month = 'Oct', revenue, null)) AS Oct_Revenue,\n",
    "    MAX(IF(month = 'Nov', revenue, null)) AS Nov_Revenue,\n",
    "    MAX(IF(month = 'Dec', revenue, null)) AS Dec_Revenue\n",
    "FROM Department\n",
    "GROUP BY id"
   ]
  },
  {
   "cell_type": "code",
   "execution_count": null,
   "metadata": {},
   "outputs": [],
   "source": [
    "Select name,population, area\n",
    "from World\n",
    "where population > 25000000 \n",
    "or area > 2000000"
   ]
  },
  {
   "cell_type": "code",
   "execution_count": null,
   "metadata": {},
   "outputs": [],
   "source": [
    "update salary\n",
    "set sex =\n",
    "case sex \n",
    "when 'm' then 'f' \n",
    "else \"m\" \n",
    "end"
   ]
  },
  {
   "cell_type": "code",
   "execution_count": null,
   "metadata": {},
   "outputs": [],
   "source": [
    "select * \n",
    "FROM cinema\n",
    "where id%2 =1\n",
    "and description <> \"boring\"\n",
    "order by rating desc"
   ]
  },
  {
   "cell_type": "code",
   "execution_count": null,
   "metadata": {},
   "outputs": [],
   "source": [
    "select Email \n",
    "from Person\n",
    "group by Email\n",
    "where count(*) >1"
   ]
  },
  {
   "cell_type": "code",
   "execution_count": null,
   "metadata": {},
   "outputs": [],
   "source": [
    "select p.FirstName, p.LastName, a.City, a.State\n",
    "from Person as p\n",
    "left join Address as a\n",
    "on p.PersonId = a.PersonId"
   ]
  },
  {
   "cell_type": "code",
   "execution_count": null,
   "metadata": {},
   "outputs": [],
   "source": [
    "select e1.Name as Employee\n",
    "from Employee e1\n",
    "join employee e2\n",
    "where\n",
    "e1.ManagerId  = e2.Id \n",
    "and e1.Salary > e2.Salary "
   ]
  },
  {
   "cell_type": "code",
   "execution_count": null,
   "metadata": {},
   "outputs": [],
   "source": [
    "select Name as Customers\n",
    "from Customers\n",
    "where Id not in (select CustomerId  from Orders)"
   ]
  },
  {
   "cell_type": "code",
   "execution_count": null,
   "metadata": {},
   "outputs": [],
   "source": [
    "select name as Customers\n",
    "from Customers\n",
    "left join Orders\n",
    "on Orders.CustomerId =Customers.Id \n",
    "where Orders.CustomerId is null"
   ]
  },
  {
   "cell_type": "code",
   "execution_count": null,
   "metadata": {},
   "outputs": [],
   "source": [
    "#delete email\n",
    "delete p1\n",
    "from Person p1,\n",
    "Person p2\n",
    "where \n",
    "p1.Id > p2.Id\n",
    "and p1.Email= p2.Email"
   ]
  },
  {
   "cell_type": "code",
   "execution_count": null,
   "metadata": {},
   "outputs": [],
   "source": [
    "#class with more than 5 student\n",
    "select class \n",
    "from Courses\n",
    "group by class\n",
    "having count(distinct student) > 5"
   ]
  },
  {
   "cell_type": "code",
   "execution_count": null,
   "metadata": {},
   "outputs": [],
   "source": [
    "#diff in weather - one day\n",
    "select w1.Id as Id\n",
    "from Weather w1,\n",
    "Weather w2\n",
    "where w1.Temperature > w2.Temperature\n",
    "and datediff(w1.RecordDate, w2.RecordDate)= 1"
   ]
  },
  {
   "cell_type": "code",
   "execution_count": null,
   "metadata": {},
   "outputs": [],
   "source": [
    "#ConsecutiveNums numbers\n",
    "select l1.num as ConsecutiveNums \n",
    "from Logs as l1,\n",
    "Logs as l2,\n",
    "Logs as l3\n",
    "where \n",
    "l1.Id= l2.Id+1\n",
    "and\n",
    "l2.Id = l3.Id+1\n",
    "and l1.Num = l2.Num\n",
    "and l3.Num= l1.Num "
   ]
  },
  {
   "cell_type": "code",
   "execution_count": null,
   "metadata": {},
   "outputs": [],
   "source": [
    "#Exchange Seats\n",
    "select \n",
    "case\n",
    "when id %2 = 1 and id != (select count(*) from seat) then id+1\n",
    "when id %2 =0 then id-1\n",
    "else id\n",
    "end\n",
    "as id,\n",
    "student\n",
    "from Seat\n",
    "order by id"
   ]
  },
  {
   "cell_type": "code",
   "execution_count": null,
   "metadata": {},
   "outputs": [],
   "source": [
    "#Department Top Three Salaries\n",
    "SELECT dept.Name as 'Department', sub.name as 'Employee', sub.salary AS 'Salary'\n",
    "FROM (SELECT name, salary, DepartmentId, dense_rank() over(PARTITION BY DepartmentId ORDER BY salary DESC) AS 'dense_rank' FROM employee)\n",
    "AS sub JOIN Department dept ON sub.DepartmentId = dept.Id\n",
    "WHERE sub.dense_rank<=3;"
   ]
  },
  {
   "cell_type": "code",
   "execution_count": null,
   "metadata": {},
   "outputs": [],
   "source": [
    "#Department Top Three Salaries\n",
    "SELECT dept.name AS 'Department', emp.name AS 'Employee', emp.salary as 'Salary'\n",
    "FROM employee emp\n",
    "JOIN Department dept\n",
    "ON emp.DepartmentId = dept.id\n",
    "WHERE 3 > (SELECT COUNT(DISTINCT salary) FROM Employee emp2 WHERE emp2.salary>emp.salary AND emp.DepartmentId = emp2.DepartmentId)"
   ]
  },
  {
   "cell_type": "code",
   "execution_count": null,
   "metadata": {},
   "outputs": [],
   "source": [
    "select score,\n",
    "dense_rank() over (order by score desc) as Rank\n",
    "from Scores"
   ]
  },
  {
   "cell_type": "code",
   "execution_count": null,
   "metadata": {},
   "outputs": [],
   "source": [
    "#Department Highest Salary\n",
    "select d1.Name as Department, e1.Name AS Employee, e1.Salary \n",
    "from Employee e1\n",
    "left join Department d1\n",
    "on e1.DepartmentId  = d1.Id\n",
    "WHERE  e1.Salary =(SELECT MAX( e1.Salary ) FROM Employee e1 WHERE e1.DepartmentId  = d1.Id) "
   ]
  },
  {
   "cell_type": "code",
   "execution_count": null,
   "metadata": {},
   "outputs": [],
   "source": [
    "CREATE FUNCTION getNthHighestSalary(N INT) RETURNS INT\n",
    "BEGIN\n",
    "  set N = N-1;\n",
    "  RETURN (\n",
    "    select distinct Salary\n",
    "    from Employee\n",
    "    order by Salary Desc\n",
    "    limit 1  offset N\n",
    "      \n",
    "      \n",
    "  );\n",
    "END\n",
    "CREATE FUNCTION getNthHighestSalary(N INT) RETURNS INT\n",
    "BEGIN\n",
    "  DECLARE M INT;\n",
    "  SET M = N - 1;\n",
    "  RETURN (\n",
    "    SELECT DISTINCT Salary FROM Employee\n",
    "    ORDER BY Salary DESC\n",
    "    LIMIT 1 OFFSET M\n",
    "  );"
   ]
  },
  {
   "cell_type": "code",
   "execution_count": null,
   "metadata": {},
   "outputs": [],
   "source": [
    "SELECT     Request_at AS Day,\n",
    "           ROUND(SUM(Status != \"completed\") / COUNT(*), 2) AS 'Cancellation Rate'\n",
    "FROM       Trips AS t\n",
    "INNER JOIN Users AS c ON t.Client_Id = c.Users_Id AND c.Banned = 'No'\n",
    "INNER JOIN Users AS d ON t.Driver_Id = d.Users_Id AND d.Banned = 'No'\n",
    "WHERE      Request_at BETWEEN '2013-10-01' AND '2013-10-03'\n",
    "GROUP BY   Request_at;"
   ]
  },
  {
   "cell_type": "code",
   "execution_count": null,
   "metadata": {},
   "outputs": [],
   "source": [
    "select d.Name as Department, e.Name as Employee, e.Salary\n",
    "from Employee as e\n",
    "    join Department as d\n",
    "    on e.DepartmentId = d.Id\n",
    "    join (\n",
    "        select max(Salary) as Salary, DepartmentId\n",
    "        from Employee\n",
    "        group by DepartmentId\n",
    "    ) as mx\n",
    "    on e.Salary = mx.Salary and e.DepartmentId = mx.DepartmentId\n"
   ]
  }
 ],
 "metadata": {
  "kernelspec": {
   "display_name": "Python 3",
   "language": "python",
   "name": "python3"
  },
  "language_info": {
   "codemirror_mode": {
    "name": "ipython",
    "version": 3
   },
   "file_extension": ".py",
   "mimetype": "text/x-python",
   "name": "python",
   "nbconvert_exporter": "python",
   "pygments_lexer": "ipython3",
   "version": "3.7.6"
  }
 },
 "nbformat": 4,
 "nbformat_minor": 2
}
